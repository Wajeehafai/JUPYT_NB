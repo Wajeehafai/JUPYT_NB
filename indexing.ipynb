{
 "cells": [
  {
   "cell_type": "code",
   "execution_count": 1,
   "metadata": {},
   "outputs": [
    {
     "data": {
      "text/plain": [
       "5"
      ]
     },
     "execution_count": 1,
     "metadata": {},
     "output_type": "execute_result"
    }
   ],
   "source": [
    "a =2+3\n",
    "a"
   ]
  },
  {
   "cell_type": "markdown",
   "metadata": {},
   "source": [
    "# _PYTHON KA CHILLA_\n",
    "## _how to use jupyter notebook_\n",
    "### _basic python_\n",
    "_1- My first program_"
   ]
  },
  {
   "cell_type": "code",
   "execution_count": 2,
   "metadata": {},
   "outputs": [
    {
     "name": "stdout",
     "output_type": "stream",
     "text": [
      "5\n",
      "I am learning Python with baba_Ammar\n",
      "Hello_AMMAR_SIR\n"
     ]
    }
   ],
   "source": [
    "print(2+3)\n",
    "print(\"I am learning Python with baba_Ammar\")\n",
    "print(\"Hello_AMMAR_SIR\")"
   ]
  },
  {
   "cell_type": "markdown",
   "metadata": {},
   "source": [
    "2- My second program\n",
    "\n",
    "OPERATORS\n",
    "\n",
    "PEMDAS RULE\n",
    "\n",
    "paranthesis\\exponents\\multiplication\\division\\addition\\subtraction"
   ]
  },
  {
   "cell_type": "code",
   "execution_count": 3,
   "metadata": {},
   "outputs": [
    {
     "name": "stdout",
     "output_type": "stream",
     "text": [
      "5\n",
      "4\n",
      "8\n",
      "5.0\n",
      "4\n",
      "0\n",
      "8\n",
      "1024\n",
      "3.0\n"
     ]
    }
   ],
   "source": [
    "print(2+3)\n",
    "print(10-6)\n",
    "print(2*4)\n",
    "print(10/2)\n",
    "print(12//3)\n",
    "print(15%3)\n",
    "print(2**3)\n",
    "print(4**5)\n",
    "print(2*3/2+5-5)\n",
    "\n"
   ]
  },
  {
   "cell_type": "markdown",
   "metadata": {},
   "source": [
    "3- My third program\n",
    "\n",
    "STRINGS"
   ]
  },
  {
   "cell_type": "code",
   "execution_count": 4,
   "metadata": {},
   "outputs": [
    {
     "name": "stdout",
     "output_type": "stream",
     "text": [
      "SINGLE QUOTES\n",
      "DOUBLE QUOTES\n",
      "TRIPLE QUOTES\n"
     ]
    }
   ],
   "source": [
    "print('SINGLE QUOTES')\n",
    "print(\"DOUBLE QUOTES\")\n",
    "print('''TRIPLE QUOTES''')"
   ]
  },
  {
   "cell_type": "markdown",
   "metadata": {},
   "source": [
    "4- My four program\n",
    "\n",
    "COMMENTS \n",
    "\n",
    "are  used to explain code.  They are not executed by the computer."
   ]
  },
  {
   "cell_type": "code",
   "execution_count": 5,
   "metadata": {},
   "outputs": [],
   "source": [
    "# import pandas as pd\n",
    "# import numpy as np\n",
    "# import matplotlib.pyplot as plt\n",
    "# import seaborn as sns\n",
    "# import warnings\n",
    "# warnings.filterwarnings('ignore')\n",
    "# %matplotlib inline"
   ]
  },
  {
   "cell_type": "markdown",
   "metadata": {},
   "source": [
    "5- My five program\n",
    "\n",
    "Variables"
   ]
  },
  {
   "cell_type": "code",
   "execution_count": 6,
   "metadata": {},
   "outputs": [
    {
     "name": "stdout",
     "output_type": "stream",
     "text": [
      "18\n",
      "We are learning with ammar\n"
     ]
    }
   ],
   "source": [
    "x=5\n",
    "y=6\n",
    "x=18\n",
    "y=\"We are learning with ammar\"\n",
    "print(x)\n",
    "print(y)"
   ]
  },
  {
   "cell_type": "markdown",
   "metadata": {},
   "source": [
    "6- My six program\n",
    "\n",
    "Input Variables"
   ]
  },
  {
   "cell_type": "code",
   "execution_count": 7,
   "metadata": {},
   "outputs": [
    {
     "name": "stdout",
     "output_type": "stream",
     "text": [
      "Mangoes\n"
     ]
    }
   ],
   "source": [
    "fruit_basket =\"Mangoes\"\n",
    "print(fruit_basket)\n"
   ]
  },
  {
   "cell_type": "code",
   "execution_count": null,
   "metadata": {},
   "outputs": [],
   "source": []
  }
 ],
 "metadata": {
  "kernelspec": {
   "display_name": "Python 3.10.7 64-bit",
   "language": "python",
   "name": "python3"
  },
  "language_info": {
   "codemirror_mode": {
    "name": "ipython",
    "version": 3
   },
   "file_extension": ".py",
   "mimetype": "text/x-python",
   "name": "python",
   "nbconvert_exporter": "python",
   "pygments_lexer": "ipython3",
   "version": "3.10.8"
  },
  "orig_nbformat": 4,
  "vscode": {
   "interpreter": {
    "hash": "76d7c06053c3456e5600312cec90888656fc0ed30c03d8425b9dac6e4fc8e014"
   }
  }
 },
 "nbformat": 4,
 "nbformat_minor": 2
}
